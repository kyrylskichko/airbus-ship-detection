{
 "cells": [
  {
   "cell_type": "markdown",
   "source": [
    "At first, we have to import the train data.\n"
   ],
   "metadata": {
    "collapsed": false
   }
  },
  {
   "cell_type": "code",
   "execution_count": 1,
   "outputs": [],
   "source": [
    "import pandas as pd\n",
    "\n",
    "df = pd.read_csv('data/train_ship_segmentations_v2.csv').dropna()\n"
   ],
   "metadata": {
    "collapsed": false,
    "pycharm": {
     "name": "#%%\n"
    }
   }
  },
  {
   "cell_type": "markdown",
   "source": [
    "Lets take a look at dataframe."
   ],
   "metadata": {
    "collapsed": false,
    "pycharm": {
     "name": "#%% md\n"
    }
   }
  },
  {
   "cell_type": "code",
   "execution_count": 2,
   "outputs": [
    {
     "data": {
      "text/plain": "<bound method NDFrame.head of               ImageId                                      EncodedPixels\n2       000155de5.jpg  264661 17 265429 33 266197 33 266965 33 267733...\n3       000194a2d.jpg  360486 1 361252 4 362019 5 362785 8 363552 10 ...\n4       000194a2d.jpg  51834 9 52602 9 53370 9 54138 9 54906 9 55674 ...\n5       000194a2d.jpg  198320 10 199088 10 199856 10 200624 10 201392...\n6       000194a2d.jpg  55683 1 56451 1 57219 1 57987 1 58755 1 59523 ...\n...               ...                                                ...\n231694  fff909871.jpg  441057 2 441825 4 442592 7 443360 9 444128 11 ...\n231709  fffcb6464.jpg  222782 4 223550 10 224318 14 225086 14 225854 ...\n231712  fffd924fb.jpg  110011 5 110779 5 111547 5 112315 5 113083 5 1...\n231713  fffd924fb.jpg  198440 8 199208 8 199976 8 200744 8 201512 8 2...\n231714  fffdd2377.jpg  333603 7 334359 19 335120 26 335888 26 336656 ...\n\n[81723 rows x 2 columns]>"
     },
     "execution_count": 2,
     "metadata": {},
     "output_type": "execute_result"
    }
   ],
   "source": [
    "df.head\n"
   ],
   "metadata": {
    "collapsed": false,
    "pycharm": {
     "name": "#%%\n"
    }
   }
  },
  {
   "cell_type": "markdown",
   "source": [
    "Lets look at images from dataset.\n"
   ],
   "metadata": {
    "collapsed": false
   }
  },
  {
   "cell_type": "code",
   "execution_count": 3,
   "outputs": [],
   "source": [
    "import os\n",
    "from PIL import Image\n",
    "\n",
    "train_dir = \"data/train_v2/\"\n",
    "\n",
    "for filename in os.listdir(train_dir)[:10]:\n",
    "    with Image.open(train_dir+filename) as im:\n",
    "        im.show()\n"
   ],
   "metadata": {
    "collapsed": false,
    "pycharm": {
     "name": "#%%\n"
    }
   }
  },
  {
   "cell_type": "markdown",
   "source": [
    "The next thing to do is making a run-length decoder, we should remember, that images can have multiple masks.\n",
    "\n"
   ],
   "metadata": {
    "collapsed": false
   }
  },
  {
   "cell_type": "code",
   "execution_count": 4,
   "outputs": [],
   "source": [
    "IMG_SIZE = 768\n",
    "\n",
    "def rle_to_mask(array, rle):\n",
    "    '''\n",
    "\n",
    "    :param array: single image\n",
    "    :param rle: list of rle masks, for every image\n",
    "    :return: image, with applied masks\n",
    "    '''\n",
    "    if rle == False:\n",
    "        return array\n",
    "\n",
    "    for elem in rle:\n",
    "        list0 = list(map(int, elem.split(\" \")))\n",
    "        elem = list(zip(list0[0::2], list0[1::2]))\n",
    "\n",
    "        place = []\n",
    "        for i in elem:\n",
    "            start, length = i\n",
    "            coordinate = (start % IMG_SIZE, start // IMG_SIZE, length)\n",
    "            place.append(coordinate)\n",
    "\n",
    "        for x, y, l in place:\n",
    "            for i in range(0, l):\n",
    "                array[x-1+i, y-1] = 255\n",
    "    return array\n",
    "\n",
    "\n"
   ],
   "metadata": {
    "collapsed": false,
    "pycharm": {
     "name": "#%%\n"
    }
   }
  },
  {
   "cell_type": "markdown",
   "source": [
    "The work of decoder can be seen below:\n"
   ],
   "metadata": {
    "collapsed": false
   }
  },
  {
   "cell_type": "code",
   "execution_count": 7,
   "outputs": [],
   "source": [
    "import numpy as np\n",
    "\n",
    "for filename in os.listdir(train_dir)[:10]:\n",
    "    masks = list(df.loc[df['ImageId'] == filename, 'EncodedPixels'])\n",
    "    zero = np.zeros((IMG_SIZE, IMG_SIZE))\n",
    "    pixels = rle_to_mask(zero, masks)\n",
    "    PIL_image = Image.fromarray(pixels.astype('uint8'), 'L')\n",
    "    PIL_image.show()\n"
   ],
   "metadata": {
    "collapsed": false,
    "pycharm": {
     "name": "#%%\n"
    }
   }
  }
 ],
 "metadata": {
  "kernelspec": {
   "display_name": "Python 3",
   "language": "python",
   "name": "python3"
  },
  "language_info": {
   "codemirror_mode": {
    "name": "ipython",
    "version": 2
   },
   "file_extension": ".py",
   "mimetype": "text/x-python",
   "name": "python",
   "nbconvert_exporter": "python",
   "pygments_lexer": "ipython2",
   "version": "2.7.6"
  }
 },
 "nbformat": 4,
 "nbformat_minor": 0
}